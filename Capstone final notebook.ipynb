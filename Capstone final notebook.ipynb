{
    "cells": [
        {
            "cell_type": "markdown",
            "metadata": {
                "collapsed": true
            },
            "source": "# Capstone Final Project"
        },
        {
            "cell_type": "markdown",
            "metadata": {},
            "source": "This project will be looking at the city of LA and Data about it to find something interesting"
        },
        {
            "cell_type": "code",
            "execution_count": 3,
            "metadata": {},
            "outputs": [],
            "source": "import pandas as pd\nimport numpy as np\nimport math\nimport re\n\n"
        },
        {
            "cell_type": "code",
            "execution_count": 4,
            "metadata": {
                "hide_input": true
            },
            "outputs": [],
            "source": "# The code was removed by Watson Studio for sharing."
        },
        {
            "cell_type": "code",
            "execution_count": 5,
            "metadata": {},
            "outputs": [
                {
                    "data": {
                        "text/html": "<div>\n<style scoped>\n    .dataframe tbody tr th:only-of-type {\n        vertical-align: middle;\n    }\n\n    .dataframe tbody tr th {\n        vertical-align: top;\n    }\n\n    .dataframe thead th {\n        text-align: right;\n    }\n</style>\n<table border=\"1\" class=\"dataframe\">\n  <thead>\n    <tr style=\"text-align: right;\">\n      <th></th>\n      <th>NC_Name</th>\n      <th>Total Population</th>\n      <th>White_pop</th>\n      <th>Black_pop</th>\n      <th>Ameri_es_pop</th>\n      <th>Asian_pop</th>\n      <th>Hawn_pi_pop</th>\n      <th>Hispanic_pop</th>\n      <th>Other_pop</th>\n      <th>Multi_pop</th>\n      <th>In_Poverty</th>\n      <th>Owner_occ</th>\n      <th>Renter_occ</th>\n    </tr>\n  </thead>\n  <tbody>\n    <tr>\n      <th>0</th>\n      <td>ARLETA NC</td>\n      <td>34932.84</td>\n      <td>2882.67</td>\n      <td>409.67</td>\n      <td>67.64</td>\n      <td>4061.31</td>\n      <td>34.96</td>\n      <td>NaN</td>\n      <td>37.58</td>\n      <td>245.05</td>\n      <td>34700.56</td>\n      <td>5590.27</td>\n      <td>2159.94</td>\n    </tr>\n    <tr>\n      <th>1</th>\n      <td>ARROYO SECO NC</td>\n      <td>21711.47</td>\n      <td>4640.35</td>\n      <td>782.76</td>\n      <td>89.51</td>\n      <td>3215.37</td>\n      <td>25.38</td>\n      <td>NaN</td>\n      <td>66.98</td>\n      <td>263.12</td>\n      <td>21582.85</td>\n      <td>4138.14</td>\n      <td>3235.61</td>\n    </tr>\n    <tr>\n      <th>2</th>\n      <td>ATWATER VILLAGE NC</td>\n      <td>11385.40</td>\n      <td>3450.70</td>\n      <td>127.80</td>\n      <td>0.15</td>\n      <td>2379.08</td>\n      <td>71.85</td>\n      <td>NaN</td>\n      <td>0.37</td>\n      <td>252.76</td>\n      <td>11345.53</td>\n      <td>1877.30</td>\n      <td>2902.89</td>\n    </tr>\n    <tr>\n      <th>3</th>\n      <td>BEL AIR-BEVERLY CREST NC</td>\n      <td>26789.14</td>\n      <td>22024.61</td>\n      <td>349.63</td>\n      <td>0.02</td>\n      <td>1787.79</td>\n      <td>0.01</td>\n      <td>NaN</td>\n      <td>156.92</td>\n      <td>946.28</td>\n      <td>26623.97</td>\n      <td>8939.21</td>\n      <td>1943.18</td>\n    </tr>\n    <tr>\n      <th>4</th>\n      <td>BOYLE HEIGHTS NC</td>\n      <td>81900.56</td>\n      <td>1562.20</td>\n      <td>640.97</td>\n      <td>63.63</td>\n      <td>2266.59</td>\n      <td>73.99</td>\n      <td>NaN</td>\n      <td>90.30</td>\n      <td>98.50</td>\n      <td>81144.31</td>\n      <td>4743.28</td>\n      <td>16001.77</td>\n    </tr>\n  </tbody>\n</table>\n</div>",
                        "text/plain": "                    NC_Name  Total Population  White_pop  Black_pop  \\\n0                 ARLETA NC          34932.84    2882.67     409.67   \n1            ARROYO SECO NC          21711.47    4640.35     782.76   \n2        ATWATER VILLAGE NC          11385.40    3450.70     127.80   \n3  BEL AIR-BEVERLY CREST NC          26789.14   22024.61     349.63   \n4          BOYLE HEIGHTS NC          81900.56    1562.20     640.97   \n\n   Ameri_es_pop  Asian_pop  Hawn_pi_pop  Hispanic_pop  Other_pop  Multi_pop  \\\n0         67.64    4061.31        34.96           NaN      37.58     245.05   \n1         89.51    3215.37        25.38           NaN      66.98     263.12   \n2          0.15    2379.08        71.85           NaN       0.37     252.76   \n3          0.02    1787.79         0.01           NaN     156.92     946.28   \n4         63.63    2266.59        73.99           NaN      90.30      98.50   \n\n   In_Poverty  Owner_occ  Renter_occ  \n0    34700.56    5590.27     2159.94  \n1    21582.85    4138.14     3235.61  \n2    11345.53    1877.30     2902.89  \n3    26623.97    8939.21     1943.18  \n4    81144.31    4743.28    16001.77  "
                    },
                    "execution_count": 5,
                    "metadata": {},
                    "output_type": "execute_result"
                }
            ],
            "source": "body = client_d8120f4c44654c8492bb144395d3c2f2.get_object(Bucket='applieddatasciencecapstoneibmcour-donotdelete-pr-tokjk722xvsf4y',Key='Census_Data_by_Neighborhood_Council.csv')['Body']\n# add missing __iter__ method, so pandas accepts body as file-like object\nif not hasattr(body, \"__iter__\"): body.__iter__ = types.MethodType( __iter__, body )\n\ndf_la_census = pd.read_csv(body)\ndf_la_census.head()"
        },
        {
            "cell_type": "code",
            "execution_count": 6,
            "metadata": {},
            "outputs": [
                {
                    "data": {
                        "text/plain": "array(['ARLETA NC', 'ARROYO SECO NC', 'ATWATER VILLAGE NC',\n       'BEL AIR-BEVERLY CREST NC', 'BOYLE HEIGHTS NC', 'CANOGA PARK NC',\n       'CENTRAL ALAMEDA NC', 'CENTRAL HOLLYWOOD NC',\n       'CENTRAL SAN PEDRO NC', 'CHATSWORTH NC', 'COASTAL SAN PEDRO NC',\n       'COMMUNITY AND NEIGHBORS FOR NINTH DISTRICT UNITY (CANNDU)',\n       'DEL REY NC', 'DOWNTOWN LOS ANGELES', 'EAGLE ROCK NC',\n       'EAST HOLLYWOOD NC', 'ELYSIAN VALLEY RIVERSIDE NC',\n       'EMPOWERMENT CONGRESS CENTRAL AREA NDC',\n       'EMPOWERMENT CONGRESS NORTH AREA NDC',\n       'EMPOWERMENT CONGRESS SOUTHEAST AREA NDC',\n       'EMPOWERMENT CONGRESS SOUTHWEST AREA NDC',\n       'EMPOWERMENT CONGRESS WEST AREA NDC', 'ENCINO NC',\n       'FOOTHILL TRAILS DISTRICT NC', 'GLASSELL PARK NC',\n       'GRANADA HILLS NORTH NC', 'GRANADA HILLS SOUTH NC',\n       'GREATER CYPRESS PARK NC', 'GREATER ECHO PARK ELYSIAN NC',\n       'GREATER TOLUCA LAKE NC', 'GREATER VALLEY GLEN COUNCIL',\n       'GREATER WILSHIRE NC', 'HARBOR CITY NC', 'HARBOR GATEWAY NORTH NC',\n       'HARBOR GATEWAY SOUTH NC', 'HERMON NC', 'HISTORIC CULTURAL NC',\n       'HISTORIC HIGHLAND PARK NC', 'HOLLYWOOD HILLS WEST NC',\n       'HOLLYWOOD STUDIO DISTRICT NC', 'HOLLYWOOD UNITED NC', 'LA-32 NC',\n       'LAKE BALBOA NC', 'LINCOLN HEIGHTS NC', 'LOS FELIZ NC',\n       'MACARTHUR PARK NC', 'MAR VISTA CC', 'MID CITY NC',\n       'MID CITY WEST CC', 'MID-TOWN NORTH HOLLYWOOD NC',\n       'MISSION HILLS NC', 'NC VALLEY VILLAGE', 'NC WESTCHESTER/PLAYA',\n       'NOHO WEST NC', 'NORTH HILLS EAST', 'NORTH HILLS WEST NC',\n       'NORTH HOLLYWOOD NORTHEAST NC', 'NORTHRIDGE EAST',\n       'NORTHRIDGE SOUTH NC', 'NORTHRIDGE WEST', 'NORTHWEST SAN PEDRO NC',\n       'OLYMPIC PARK NC', 'P.I.C.O. NC', 'PACOIMA NC', 'PALMS NC',\n       'PANORAMA CITY NC', 'PARK MESA HEIGHTS CC', 'PICO UNION NC',\n       'PORTER RANCH NC', 'RAMPART VILLAGE NC', 'RESEDA NC',\n       'SHERMAN OAKS NC', 'SILVER LAKE NC', 'SOUTH CENTRAL NC',\n       'SOUTH ROBERTSON NC', 'STUDIO CITY NC', 'SUN VALLEY AREA NC',\n       'SUNLAND-TUJUNGA NC', 'SYLMAR NC', 'TARZANA NC',\n       'UNITED NEIGHBORHOODS OF THE HISTORIC ARLINGTON HEIGHTS, WEST ADAMS, AND JEFFERSON PARK COMMUNITY',\n       'VAN NUYS NC', 'VENICE NC', 'VOICES OF 90037', 'WATTS NC',\n       'WEST ADAMS NC', 'WEST HILLS NC', 'WEST LOS ANGELES NC',\n       'WESTLAKE NORTH NC', 'WESTLAKE SOUTH NC', 'WESTSIDE NC',\n       'WESTWOOD NC', 'WILMINGTON NC', 'WILSHIRE CENTER - KOREATOWN NC',\n       'WINNETKA NC', 'WOODLAND HILLS-WARNER CENTER NC', 'ZAPATA KING NC'],\n      dtype=object)"
                    },
                    "execution_count": 6,
                    "metadata": {},
                    "output_type": "execute_result"
                }
            ],
            "source": "df_la_census['NC_Name'].unique()"
        },
        {
            "cell_type": "code",
            "execution_count": null,
            "metadata": {},
            "outputs": [],
            "source": ""
        },
        {
            "cell_type": "code",
            "execution_count": null,
            "metadata": {},
            "outputs": [],
            "source": ""
        },
        {
            "cell_type": "code",
            "execution_count": null,
            "metadata": {},
            "outputs": [],
            "source": ""
        },
        {
            "cell_type": "code",
            "execution_count": 7,
            "metadata": {},
            "outputs": [
                {
                    "data": {
                        "text/html": "<div>\n<style scoped>\n    .dataframe tbody tr th:only-of-type {\n        vertical-align: middle;\n    }\n\n    .dataframe tbody tr th {\n        vertical-align: top;\n    }\n\n    .dataframe thead th {\n        text-align: right;\n    }\n</style>\n<table border=\"1\" class=\"dataframe\">\n  <thead>\n    <tr style=\"text-align: right;\">\n      <th></th>\n      <th>set</th>\n      <th>slug</th>\n      <th>the_geom</th>\n      <th>kind</th>\n      <th>external_i</th>\n      <th>name</th>\n      <th>display_na</th>\n      <th>sqmi</th>\n      <th>type</th>\n      <th>name_1</th>\n      <th>slug_1</th>\n      <th>latitude</th>\n      <th>longitude</th>\n      <th>location</th>\n    </tr>\n  </thead>\n  <tbody>\n    <tr>\n      <th>0</th>\n      <td>L.A. County Neighborhoods (Current)</td>\n      <td>acton</td>\n      <td>MULTIPOLYGON (((-118.20261747920541 34.5389897...</td>\n      <td>L.A. County Neighborhood (Current)</td>\n      <td>acton</td>\n      <td>Acton</td>\n      <td>Acton L.A. County Neighborhood (Current)</td>\n      <td>39.339109</td>\n      <td>unincorporated-area</td>\n      <td>NaN</td>\n      <td>NaN</td>\n      <td>-118.169810</td>\n      <td>34.497355</td>\n      <td>POINT(34.497355239240846 -118.16981019229348)</td>\n    </tr>\n    <tr>\n      <th>1</th>\n      <td>L.A. County Neighborhoods (Current)</td>\n      <td>adams-normandie</td>\n      <td>MULTIPOLYGON (((-118.30900800000012 34.0374109...</td>\n      <td>L.A. County Neighborhood (Current)</td>\n      <td>adams-normandie</td>\n      <td>Adams-Normandie</td>\n      <td>Adams-Normandie L.A. County Neighborhood (Curr...</td>\n      <td>0.805350</td>\n      <td>segment-of-a-city</td>\n      <td>NaN</td>\n      <td>NaN</td>\n      <td>-118.300208</td>\n      <td>34.031461</td>\n      <td>POINT(34.031461499124156 -118.30020800000011)</td>\n    </tr>\n    <tr>\n      <th>2</th>\n      <td>L.A. County Neighborhoods (Current)</td>\n      <td>agoura-hills</td>\n      <td>MULTIPOLYGON (((-118.76192500000009 34.1682029...</td>\n      <td>L.A. County Neighborhood (Current)</td>\n      <td>agoura-hills</td>\n      <td>Agoura Hills</td>\n      <td>Agoura Hills L.A. County Neighborhood (Current)</td>\n      <td>8.146760</td>\n      <td>standalone-city</td>\n      <td>NaN</td>\n      <td>NaN</td>\n      <td>-118.759885</td>\n      <td>34.146736</td>\n      <td>POINT(34.146736499122795 -118.75988450000015)</td>\n    </tr>\n    <tr>\n      <th>3</th>\n      <td>L.A. County Neighborhoods (Current)</td>\n      <td>agua-dulce</td>\n      <td>MULTIPOLYGON (((-118.2546773959221 34.55830403...</td>\n      <td>L.A. County Neighborhood (Current)</td>\n      <td>agua-dulce</td>\n      <td>Agua Dulce</td>\n      <td>Agua Dulce L.A. County Neighborhood (Current)</td>\n      <td>31.462632</td>\n      <td>unincorporated-area</td>\n      <td>NaN</td>\n      <td>NaN</td>\n      <td>-118.317104</td>\n      <td>34.504927</td>\n      <td>POINT(34.504926999796837 -118.3171036690717)</td>\n    </tr>\n    <tr>\n      <th>4</th>\n      <td>L.A. County Neighborhoods (Current)</td>\n      <td>alhambra</td>\n      <td>MULTIPOLYGON (((-118.12174700000014 34.1050399...</td>\n      <td>L.A. County Neighborhood (Current)</td>\n      <td>alhambra</td>\n      <td>Alhambra</td>\n      <td>Alhambra L.A. County Neighborhood (Current)</td>\n      <td>7.623814</td>\n      <td>standalone-city</td>\n      <td>NaN</td>\n      <td>NaN</td>\n      <td>-118.136512</td>\n      <td>34.085539</td>\n      <td>POINT(34.085538999123571 -118.13651200000021)</td>\n    </tr>\n  </tbody>\n</table>\n</div>",
                        "text/plain": "                                   set             slug  \\\n0  L.A. County Neighborhoods (Current)            acton   \n1  L.A. County Neighborhoods (Current)  adams-normandie   \n2  L.A. County Neighborhoods (Current)     agoura-hills   \n3  L.A. County Neighborhoods (Current)       agua-dulce   \n4  L.A. County Neighborhoods (Current)         alhambra   \n\n                                            the_geom  \\\n0  MULTIPOLYGON (((-118.20261747920541 34.5389897...   \n1  MULTIPOLYGON (((-118.30900800000012 34.0374109...   \n2  MULTIPOLYGON (((-118.76192500000009 34.1682029...   \n3  MULTIPOLYGON (((-118.2546773959221 34.55830403...   \n4  MULTIPOLYGON (((-118.12174700000014 34.1050399...   \n\n                                 kind       external_i             name  \\\n0  L.A. County Neighborhood (Current)            acton            Acton   \n1  L.A. County Neighborhood (Current)  adams-normandie  Adams-Normandie   \n2  L.A. County Neighborhood (Current)     agoura-hills     Agoura Hills   \n3  L.A. County Neighborhood (Current)       agua-dulce       Agua Dulce   \n4  L.A. County Neighborhood (Current)         alhambra         Alhambra   \n\n                                          display_na       sqmi  \\\n0           Acton L.A. County Neighborhood (Current)  39.339109   \n1  Adams-Normandie L.A. County Neighborhood (Curr...   0.805350   \n2    Agoura Hills L.A. County Neighborhood (Current)   8.146760   \n3      Agua Dulce L.A. County Neighborhood (Current)  31.462632   \n4        Alhambra L.A. County Neighborhood (Current)   7.623814   \n\n                  type  name_1  slug_1    latitude  longitude  \\\n0  unincorporated-area     NaN     NaN -118.169810  34.497355   \n1    segment-of-a-city     NaN     NaN -118.300208  34.031461   \n2      standalone-city     NaN     NaN -118.759885  34.146736   \n3  unincorporated-area     NaN     NaN -118.317104  34.504927   \n4      standalone-city     NaN     NaN -118.136512  34.085539   \n\n                                        location  \n0  POINT(34.497355239240846 -118.16981019229348)  \n1  POINT(34.031461499124156 -118.30020800000011)  \n2  POINT(34.146736499122795 -118.75988450000015)  \n3   POINT(34.504926999796837 -118.3171036690717)  \n4  POINT(34.085538999123571 -118.13651200000021)  "
                    },
                    "execution_count": 7,
                    "metadata": {},
                    "output_type": "execute_result"
                }
            ],
            "source": "\nbody = client_d8120f4c44654c8492bb144395d3c2f2.get_object(Bucket='applieddatasciencecapstoneibmcour-donotdelete-pr-tokjk722xvsf4y',Key='la_neighborhoods.csv')['Body']\n# add missing __iter__ method, so pandas accepts body as file-like object\nif not hasattr(body, \"__iter__\"): body.__iter__ = types.MethodType( __iter__, body )\n\ndf_la_neigh = pd.read_csv(body)\ndf_la_neigh.head()\n"
        },
        {
            "cell_type": "code",
            "execution_count": 8,
            "metadata": {
                "scrolled": true
            },
            "outputs": [
                {
                    "data": {
                        "text/plain": "array(['Acton', 'Adams-Normandie', 'Agoura Hills', 'Agua Dulce',\n       'Alhambra', 'Alondra Park', 'Artesia', 'Altadena', 'Angeles Crest',\n       'Arcadia', 'Arleta', 'Arlington Heights', 'Athens',\n       'Atwater Village', 'Avalon', 'Avocado Heights', 'Azusa',\n       'Vermont-Slauson', 'Baldwin Hills/Crenshaw', 'Baldwin Park',\n       'Bel-Air', 'Bellflower', 'Bell Gardens', 'Green Valley', 'Bell',\n       'Beverly Crest', 'Beverly Grove', 'Burbank', 'Koreatown',\n       'Beverly Hills', 'Beverlywood', 'Boyle Heights', 'Bradbury',\n       'Brentwood', 'Broadway-Manchester', 'Calabasas', 'Canoga Park',\n       'Carson', 'Carthay', 'Castaic Canyons', 'Chatsworth', 'Castaic',\n       'Central-Alameda', 'Century City', 'Cerritos', 'Charter Oak',\n       'Chatsworth Reservoir', 'Chesterfield Square', 'Cheviot Hills',\n       'Chinatown', 'Citrus', 'Claremont', 'Northridge', 'Commerce',\n       'Compton', 'Cypress Park', 'La Mirada', 'Covina', 'Cudahy',\n       'Culver City', 'Del Aire', 'Del Rey', 'Desert View Highlands',\n       'Diamond Bar', 'Downey', 'Downtown', 'Duarte', 'Eagle Rock',\n       'East Compton', 'East Hollywood', 'East La Mirada',\n       'Elizabeth Lake', 'East Los Angeles', 'East Pasadena',\n       'East San Gabriel', 'Echo Park', 'El Monte', 'El Segundo',\n       'El Sereno', 'Elysian Park', 'Elysian Valley', 'Vermont Square',\n       'Encino', 'Exposition Park', 'Fairfax', 'Florence-Firestone',\n       'Florence', 'Gardena', 'Glassell Park', 'Green Meadows',\n       'Vermont Vista', 'Glendale', 'Glendora', 'Gramercy Park',\n       'Granada Hills', 'Griffith Park', 'Hacienda Heights',\n       'Hancock Park', 'Hansen Dam', 'Harbor City', 'Harbor Gateway',\n       'Harvard Heights', 'Harvard Park', 'Walnut Park', 'Hasley Canyon',\n       'Hawaiian Gardens', 'Hawthorne', 'Hermosa Beach', 'Hidden Hills',\n       'Mar Vista', 'Highland Park', 'Historic South-Central',\n       'Hollywood Hills', 'Hollywood Hills West', 'Hollywood',\n       'Huntington Park', 'Hyde Park', 'Inglewood', 'Irwindale',\n       'Jefferson Park', 'Industry', 'La Canada Flintridge',\n       'La Crescenta-Montrose', 'Ladera Heights', 'Playa Vista',\n       'La Habra Heights', 'Lake Balboa', 'Lake Hughes',\n       'Lake Los Angeles', 'Lake View Terrace', 'Lakewood', 'Lancaster',\n       'La Puente', 'Larchmont', 'Watts', 'La Verne', 'Lawndale',\n       'Leimert Park', 'Lennox', 'Leona Valley', 'Lincoln Heights',\n       'Littlerock', 'Lomita', 'Long Beach', 'Lopez/Kagel Canyons',\n       'Los Feliz', 'Lynwood', 'Malibu', 'Manchester Square',\n       'Manhattan Beach', 'Marina del Rey', 'Mayflower Village',\n       'Maywood', 'Mid-City', 'Mid-Wilshire', 'Mission Hills',\n       'Monterey Park', 'West Adams', 'Monrovia', 'Montebello',\n       'Montecito Heights', 'Mount Washington',\n       'Northeast Antelope Valley', 'North El Monte', 'North Hills',\n       'North Hollywood', 'Northwest Antelope Valley',\n       'Northwest Palmdale', 'North Whittier', 'Norwalk',\n       'Pacific Palisades', 'Pacoima', 'Palos Verdes Estates',\n       'Panorama City', 'Palmdale', 'Palms', 'West Carson', 'Paramount',\n       'Pico Rivera', 'Pico-Robertson', 'Pico-Union', 'Playa del Rey',\n       'Pasadena', 'Pomona', 'Porter Ranch', 'Quartz Hill',\n       'Redondo Beach', 'Ramona', 'Rancho Dominguez', 'Reseda',\n       'Rolling Hills Estates', 'Rancho Palos Verdes', 'Rancho Park',\n       'Ridge Route', 'Rolling Hills', 'Rosemead', 'Rowland Heights',\n       'Santa Fe Springs', 'San Dimas', 'San Fernando', 'Santa Monica',\n       'Sawtelle', 'San Gabriel', 'San Marino', 'San Pasqual',\n       'Sepulveda Basin', 'San Pedro', 'Sun Village', 'Santa Clarita',\n       'Shadow Hills', 'Sherman Oaks', 'Sierra Madre', 'Signal Hill',\n       'Silver Lake', 'South Diamond Bar', 'Southeast Antelope Valley',\n       'South El Monte', 'South Gate', 'South Park', 'South Pasadena',\n       'South San Gabriel', 'South San Jose Hills', 'South Whittier',\n       'Sylmar', 'Stevenson Ranch', 'Studio City', 'Sunland',\n       'Sun Valley', 'Tarzana', 'Temple City', 'Toluca Lake', 'Topanga',\n       'Universal City', 'Torrance', 'Tujunga Canyons', 'Tujunga',\n       'Unincorporated Catalina Island', 'University Park', 'Valinda',\n       'Valley Glen', 'Valley Village',\n       'Unincorporated Santa Monica Mountains', 'Val Verde', 'Van Nuys',\n       'Venice', 'Unincorporated Santa Susana Mountains',\n       'Vermont Knolls', 'Vernon', 'Veterans Administration',\n       'View Park-Windsor Hills', 'Vincent', 'Walnut', 'Westchester',\n       'West Compton', 'West Covina', 'West Hills', 'West Hollywood',\n       'Westlake', 'Westlake Village', 'West Los Angeles', 'Westmont',\n       'West Puente Valley', 'West San Dimas', 'West Whittier-Los Nietos',\n       'Westwood', 'Whittier', 'Whittier Narrows', 'Willowbrook',\n       'Wilmington', 'Windsor Square', 'Winnetka', 'Woodland Hills'],\n      dtype=object)"
                    },
                    "execution_count": 8,
                    "metadata": {},
                    "output_type": "execute_result"
                }
            ],
            "source": "df_la_neigh['name'].unique()"
        },
        {
            "cell_type": "code",
            "execution_count": 9,
            "metadata": {},
            "outputs": [
                {
                    "data": {
                        "text/html": "<div>\n<style scoped>\n    .dataframe tbody tr th:only-of-type {\n        vertical-align: middle;\n    }\n\n    .dataframe tbody tr th {\n        vertical-align: top;\n    }\n\n    .dataframe thead th {\n        text-align: right;\n    }\n</style>\n<table border=\"1\" class=\"dataframe\">\n  <thead>\n    <tr style=\"text-align: right;\">\n      <th></th>\n      <th>name</th>\n      <th>sqmi</th>\n      <th>type</th>\n      <th>latitude</th>\n      <th>longitude</th>\n      <th>the_geom</th>\n      <th>location</th>\n    </tr>\n  </thead>\n  <tbody>\n    <tr>\n      <th>0</th>\n      <td>Acton</td>\n      <td>39.339109</td>\n      <td>unincorporated-area</td>\n      <td>-118.169810</td>\n      <td>34.497355</td>\n      <td>MULTIPOLYGON (((-118.20261747920541 34.5389897...</td>\n      <td>POINT(34.497355239240846 -118.16981019229348)</td>\n    </tr>\n    <tr>\n      <th>1</th>\n      <td>Adams-Normandie</td>\n      <td>0.805350</td>\n      <td>segment-of-a-city</td>\n      <td>-118.300208</td>\n      <td>34.031461</td>\n      <td>MULTIPOLYGON (((-118.30900800000012 34.0374109...</td>\n      <td>POINT(34.031461499124156 -118.30020800000011)</td>\n    </tr>\n    <tr>\n      <th>2</th>\n      <td>Agoura Hills</td>\n      <td>8.146760</td>\n      <td>standalone-city</td>\n      <td>-118.759885</td>\n      <td>34.146736</td>\n      <td>MULTIPOLYGON (((-118.76192500000009 34.1682029...</td>\n      <td>POINT(34.146736499122795 -118.75988450000015)</td>\n    </tr>\n    <tr>\n      <th>3</th>\n      <td>Agua Dulce</td>\n      <td>31.462632</td>\n      <td>unincorporated-area</td>\n      <td>-118.317104</td>\n      <td>34.504927</td>\n      <td>MULTIPOLYGON (((-118.2546773959221 34.55830403...</td>\n      <td>POINT(34.504926999796837 -118.3171036690717)</td>\n    </tr>\n    <tr>\n      <th>4</th>\n      <td>Alhambra</td>\n      <td>7.623814</td>\n      <td>standalone-city</td>\n      <td>-118.136512</td>\n      <td>34.085539</td>\n      <td>MULTIPOLYGON (((-118.12174700000014 34.1050399...</td>\n      <td>POINT(34.085538999123571 -118.13651200000021)</td>\n    </tr>\n  </tbody>\n</table>\n</div>",
                        "text/plain": "              name       sqmi                 type    latitude  longitude  \\\n0            Acton  39.339109  unincorporated-area -118.169810  34.497355   \n1  Adams-Normandie   0.805350    segment-of-a-city -118.300208  34.031461   \n2     Agoura Hills   8.146760      standalone-city -118.759885  34.146736   \n3       Agua Dulce  31.462632  unincorporated-area -118.317104  34.504927   \n4         Alhambra   7.623814      standalone-city -118.136512  34.085539   \n\n                                            the_geom  \\\n0  MULTIPOLYGON (((-118.20261747920541 34.5389897...   \n1  MULTIPOLYGON (((-118.30900800000012 34.0374109...   \n2  MULTIPOLYGON (((-118.76192500000009 34.1682029...   \n3  MULTIPOLYGON (((-118.2546773959221 34.55830403...   \n4  MULTIPOLYGON (((-118.12174700000014 34.1050399...   \n\n                                        location  \n0  POINT(34.497355239240846 -118.16981019229348)  \n1  POINT(34.031461499124156 -118.30020800000011)  \n2  POINT(34.146736499122795 -118.75988450000015)  \n3   POINT(34.504926999796837 -118.3171036690717)  \n4  POINT(34.085538999123571 -118.13651200000021)  "
                    },
                    "execution_count": 9,
                    "metadata": {},
                    "output_type": "execute_result"
                }
            ],
            "source": "la_neigh_col_list = ['name', 'sqmi', 'type', 'latitude', 'longitude', 'the_geom', 'location']\ndf_la_neigh = df_la_neigh[la_neigh_col_list]\ndf_la_neigh.head()"
        },
        {
            "cell_type": "code",
            "execution_count": 10,
            "metadata": {},
            "outputs": [
                {
                    "data": {
                        "text/plain": "array(['unincorporated-area', 'segment-of-a-city', 'standalone-city'],\n      dtype=object)"
                    },
                    "execution_count": 10,
                    "metadata": {},
                    "output_type": "execute_result"
                }
            ],
            "source": "df_la_neigh['type'].unique()"
        },
        {
            "cell_type": "code",
            "execution_count": 16,
            "metadata": {},
            "outputs": [
                {
                    "name": "stdout",
                    "output_type": "stream",
                    "text": "<class 'str'>\n"
                },
                {
                    "data": {
                        "text/html": "<div>\n<style scoped>\n    .dataframe tbody tr th:only-of-type {\n        vertical-align: middle;\n    }\n\n    .dataframe tbody tr th {\n        vertical-align: top;\n    }\n\n    .dataframe thead th {\n        text-align: right;\n    }\n</style>\n<table border=\"1\" class=\"dataframe\">\n  <thead>\n    <tr style=\"text-align: right;\">\n      <th></th>\n      <th>name</th>\n      <th>Location</th>\n    </tr>\n  </thead>\n  <tbody>\n    <tr>\n      <th>0</th>\n      <td>Acton</td>\n      <td>(34.497355239240854, -118.1698101922935)</td>\n    </tr>\n    <tr>\n      <th>1</th>\n      <td>Adams-Normandie</td>\n      <td>(34.03146149912416, -118.30020800000014)</td>\n    </tr>\n    <tr>\n      <th>2</th>\n      <td>Agoura Hills</td>\n      <td>(34.146736499122795, -118.75988450000015)</td>\n    </tr>\n    <tr>\n      <th>3</th>\n      <td>Agua Dulce</td>\n      <td>(34.50492699979684, -118.31710366907171)</td>\n    </tr>\n    <tr>\n      <th>4</th>\n      <td>Alhambra</td>\n      <td>(34.08553899912357, -118.13651200000021)</td>\n    </tr>\n    <tr>\n      <th>5</th>\n      <td>Alondra Park</td>\n      <td>(33.889617004889644, -118.3351559860816)</td>\n    </tr>\n    <tr>\n      <th>6</th>\n      <td>Artesia</td>\n      <td>(33.866895999126264, -118.08010100000016)</td>\n    </tr>\n    <tr>\n      <th>7</th>\n      <td>Altadena</td>\n      <td>(34.19387050223217, -118.13623898201557)</td>\n    </tr>\n    <tr>\n      <th>8</th>\n      <td>Angeles Crest</td>\n      <td>(34.31393700589531, -117.9223952817848)</td>\n    </tr>\n    <tr>\n      <th>9</th>\n      <td>Arcadia</td>\n      <td>(34.13322999912302, -118.03041899311201)</td>\n    </tr>\n    <tr>\n      <th>10</th>\n      <td>Arleta</td>\n      <td>(34.24309999912158, -118.4307575)</td>\n    </tr>\n    <tr>\n      <th>11</th>\n      <td>Arlington Heights</td>\n      <td>(34.04491049912405, -118.3234085)</td>\n    </tr>\n    <tr>\n      <th>12</th>\n      <td>Athens</td>\n      <td>(33.9236925059352, -118.30465647554277)</td>\n    </tr>\n    <tr>\n      <th>13</th>\n      <td>Atwater Village</td>\n      <td>(34.13106635675918, -118.26237347966236)</td>\n    </tr>\n    <tr>\n      <th>14</th>\n      <td>Avalon</td>\n      <td>(33.33695449913309, -118.32733223477571)</td>\n    </tr>\n    <tr>\n      <th>15</th>\n      <td>Avocado Heights</td>\n      <td>(34.040881003821966, -118.0012614768012)</td>\n    </tr>\n    <tr>\n      <th>16</th>\n      <td>Azusa</td>\n      <td>(34.13746999912302, -117.9124685)</td>\n    </tr>\n    <tr>\n      <th>17</th>\n      <td>Vermont-Slauson</td>\n      <td>(33.98391399912471, -118.29035750000013)</td>\n    </tr>\n    <tr>\n      <th>18</th>\n      <td>Baldwin Hills/Crenshaw</td>\n      <td>(34.01197027055953, -118.35774600000003)</td>\n    </tr>\n    <tr>\n      <th>19</th>\n      <td>Baldwin Park</td>\n      <td>(34.08110949912369, -117.97519050000021)</td>\n    </tr>\n    <tr>\n      <th>20</th>\n      <td>Bel-Air</td>\n      <td>(34.10205699912334, -118.45841550000007)</td>\n    </tr>\n    <tr>\n      <th>21</th>\n      <td>Bellflower</td>\n      <td>(33.88801349912606, -118.12903150000015)</td>\n    </tr>\n    <tr>\n      <th>22</th>\n      <td>Bell Gardens</td>\n      <td>(33.965685999125014, -118.14993600000021)</td>\n    </tr>\n    <tr>\n      <th>23</th>\n      <td>Green Valley</td>\n      <td>(34.62000745749515, -118.41421658346756)</td>\n    </tr>\n    <tr>\n      <th>24</th>\n      <td>Bell</td>\n      <td>(33.98116099912489, -118.1791660000002)</td>\n    </tr>\n    <tr>\n      <th>25</th>\n      <td>Beverly Crest</td>\n      <td>(34.106006999123245, -118.423263)</td>\n    </tr>\n    <tr>\n      <th>26</th>\n      <td>Beverly Grove</td>\n      <td>(34.07663299912361, -118.376102)</td>\n    </tr>\n    <tr>\n      <th>27</th>\n      <td>Burbank</td>\n      <td>(34.18201049912244, -118.32521100000015)</td>\n    </tr>\n    <tr>\n      <th>28</th>\n      <td>Koreatown</td>\n      <td>(34.06451049912376, -118.3049585)</td>\n    </tr>\n    <tr>\n      <th>29</th>\n      <td>Beverly Hills</td>\n      <td>(34.0825444991237, -118.39953400000016)</td>\n    </tr>\n    <tr>\n      <th>...</th>\n      <td>...</td>\n      <td>...</td>\n    </tr>\n    <tr>\n      <th>242</th>\n      <td>Val Verde</td>\n      <td>(34.44560168460962, -118.66565388049709)</td>\n    </tr>\n    <tr>\n      <th>243</th>\n      <td>Van Nuys</td>\n      <td>(34.196505499122246, -118.46395449999999)</td>\n    </tr>\n    <tr>\n      <th>244</th>\n      <td>Venice</td>\n      <td>(33.986273217151734, -118.46284569710345)</td>\n    </tr>\n    <tr>\n      <th>245</th>\n      <td>Unincorporated Santa Susana Mountains</td>\n      <td>(34.36184388657193, -118.6168004757234)</td>\n    </tr>\n    <tr>\n      <th>246</th>\n      <td>Vermont Knolls</td>\n      <td>(33.967009999125, -118.29050700000013)</td>\n    </tr>\n    <tr>\n      <th>247</th>\n      <td>Vernon</td>\n      <td>(33.999657999124715, -118.20343200000013)</td>\n    </tr>\n    <tr>\n      <th>248</th>\n      <td>Veterans Administration</td>\n      <td>(34.057383999123985, -118.45725850000031)</td>\n    </tr>\n    <tr>\n      <th>249</th>\n      <td>View Park-Windsor Hills</td>\n      <td>(33.99564600304306, -118.34855947912705)</td>\n    </tr>\n    <tr>\n      <th>250</th>\n      <td>Vincent</td>\n      <td>(34.09951050296921, -117.92479398575192)</td>\n    </tr>\n    <tr>\n      <th>251</th>\n      <td>Walnut</td>\n      <td>(34.03324799912426, -117.86012600000015)</td>\n    </tr>\n    <tr>\n      <th>252</th>\n      <td>Westchester</td>\n      <td>(33.95599525987285, -118.39829259016352)</td>\n    </tr>\n    <tr>\n      <th>253</th>\n      <td>West Compton</td>\n      <td>(33.89413650249923, -118.26773698606381)</td>\n    </tr>\n    <tr>\n      <th>254</th>\n      <td>West Covina</td>\n      <td>(34.047182499124105, -117.91269950000022)</td>\n    </tr>\n    <tr>\n      <th>255</th>\n      <td>West Hills</td>\n      <td>(34.207253636931036, -118.63539850000005)</td>\n    </tr>\n    <tr>\n      <th>256</th>\n      <td>West Hollywood</td>\n      <td>(34.08721323709856, -118.36961300000021)</td>\n    </tr>\n    <tr>\n      <th>257</th>\n      <td>Westlake</td>\n      <td>(34.062360999123754, -118.27222100000006)</td>\n    </tr>\n    <tr>\n      <th>258</th>\n      <td>Westlake Village</td>\n      <td>(34.13919149912303, -118.82291200000013)</td>\n    </tr>\n    <tr>\n      <th>259</th>\n      <td>West Los Angeles</td>\n      <td>(34.047220499123924, -118.4307445)</td>\n    </tr>\n    <tr>\n      <th>260</th>\n      <td>Westmont</td>\n      <td>(33.94520750243695, -118.30463897559736)</td>\n    </tr>\n    <tr>\n      <th>261</th>\n      <td>West Puente Valley</td>\n      <td>(34.049860493908575, -117.96992450000026)</td>\n    </tr>\n    <tr>\n      <th>262</th>\n      <td>West San Dimas</td>\n      <td>(34.08743165988433, -117.83509899236437)</td>\n    </tr>\n    <tr>\n      <th>263</th>\n      <td>West Whittier-Los Nietos</td>\n      <td>(33.98055999993961, -118.07001998587738)</td>\n    </tr>\n    <tr>\n      <th>264</th>\n      <td>Westwood</td>\n      <td>(34.06523499912381, -118.44047994677246)</td>\n    </tr>\n    <tr>\n      <th>265</th>\n      <td>Whittier</td>\n      <td>(33.979441000624014, -118.01891099569201)</td>\n    </tr>\n    <tr>\n      <th>266</th>\n      <td>Whittier Narrows</td>\n      <td>(34.03707410984437, -118.06118827749373)</td>\n    </tr>\n    <tr>\n      <th>267</th>\n      <td>Willowbrook</td>\n      <td>(33.915710503828585, -118.25231247908228)</td>\n    </tr>\n    <tr>\n      <th>268</th>\n      <td>Wilmington</td>\n      <td>(33.79129350128175, -118.25918700000008)</td>\n    </tr>\n    <tr>\n      <th>269</th>\n      <td>Windsor Square</td>\n      <td>(34.06910849912372, -118.31990900000004)</td>\n    </tr>\n    <tr>\n      <th>270</th>\n      <td>Winnetka</td>\n      <td>(34.21045949912199, -118.57521950000013)</td>\n    </tr>\n    <tr>\n      <th>271</th>\n      <td>Woodland Hills</td>\n      <td>(34.159408692550485, -118.61521650000006)</td>\n    </tr>\n  </tbody>\n</table>\n<p>272 rows \u00d7 2 columns</p>\n</div>",
                        "text/plain": "                                      name  \\\n0                                    Acton   \n1                          Adams-Normandie   \n2                             Agoura Hills   \n3                               Agua Dulce   \n4                                 Alhambra   \n5                             Alondra Park   \n6                                  Artesia   \n7                                 Altadena   \n8                            Angeles Crest   \n9                                  Arcadia   \n10                                  Arleta   \n11                       Arlington Heights   \n12                                  Athens   \n13                         Atwater Village   \n14                                  Avalon   \n15                         Avocado Heights   \n16                                   Azusa   \n17                         Vermont-Slauson   \n18                  Baldwin Hills/Crenshaw   \n19                            Baldwin Park   \n20                                 Bel-Air   \n21                              Bellflower   \n22                            Bell Gardens   \n23                            Green Valley   \n24                                    Bell   \n25                           Beverly Crest   \n26                           Beverly Grove   \n27                                 Burbank   \n28                               Koreatown   \n29                           Beverly Hills   \n..                                     ...   \n242                              Val Verde   \n243                               Van Nuys   \n244                                 Venice   \n245  Unincorporated Santa Susana Mountains   \n246                         Vermont Knolls   \n247                                 Vernon   \n248                Veterans Administration   \n249                View Park-Windsor Hills   \n250                                Vincent   \n251                                 Walnut   \n252                            Westchester   \n253                           West Compton   \n254                            West Covina   \n255                             West Hills   \n256                         West Hollywood   \n257                               Westlake   \n258                       Westlake Village   \n259                       West Los Angeles   \n260                               Westmont   \n261                     West Puente Valley   \n262                         West San Dimas   \n263               West Whittier-Los Nietos   \n264                               Westwood   \n265                               Whittier   \n266                       Whittier Narrows   \n267                            Willowbrook   \n268                             Wilmington   \n269                         Windsor Square   \n270                               Winnetka   \n271                         Woodland Hills   \n\n                                      Location  \n0     (34.497355239240854, -118.1698101922935)  \n1     (34.03146149912416, -118.30020800000014)  \n2    (34.146736499122795, -118.75988450000015)  \n3     (34.50492699979684, -118.31710366907171)  \n4     (34.08553899912357, -118.13651200000021)  \n5     (33.889617004889644, -118.3351559860816)  \n6    (33.866895999126264, -118.08010100000016)  \n7     (34.19387050223217, -118.13623898201557)  \n8      (34.31393700589531, -117.9223952817848)  \n9     (34.13322999912302, -118.03041899311201)  \n10           (34.24309999912158, -118.4307575)  \n11           (34.04491049912405, -118.3234085)  \n12     (33.9236925059352, -118.30465647554277)  \n13    (34.13106635675918, -118.26237347966236)  \n14    (33.33695449913309, -118.32733223477571)  \n15    (34.040881003821966, -118.0012614768012)  \n16           (34.13746999912302, -117.9124685)  \n17    (33.98391399912471, -118.29035750000013)  \n18    (34.01197027055953, -118.35774600000003)  \n19    (34.08110949912369, -117.97519050000021)  \n20    (34.10205699912334, -118.45841550000007)  \n21    (33.88801349912606, -118.12903150000015)  \n22   (33.965685999125014, -118.14993600000021)  \n23    (34.62000745749515, -118.41421658346756)  \n24     (33.98116099912489, -118.1791660000002)  \n25           (34.106006999123245, -118.423263)  \n26            (34.07663299912361, -118.376102)  \n27    (34.18201049912244, -118.32521100000015)  \n28           (34.06451049912376, -118.3049585)  \n29     (34.0825444991237, -118.39953400000016)  \n..                                         ...  \n242   (34.44560168460962, -118.66565388049709)  \n243  (34.196505499122246, -118.46395449999999)  \n244  (33.986273217151734, -118.46284569710345)  \n245    (34.36184388657193, -118.6168004757234)  \n246     (33.967009999125, -118.29050700000013)  \n247  (33.999657999124715, -118.20343200000013)  \n248  (34.057383999123985, -118.45725850000031)  \n249   (33.99564600304306, -118.34855947912705)  \n250   (34.09951050296921, -117.92479398575192)  \n251   (34.03324799912426, -117.86012600000015)  \n252   (33.95599525987285, -118.39829259016352)  \n253   (33.89413650249923, -118.26773698606381)  \n254  (34.047182499124105, -117.91269950000022)  \n255  (34.207253636931036, -118.63539850000005)  \n256   (34.08721323709856, -118.36961300000021)  \n257  (34.062360999123754, -118.27222100000006)  \n258   (34.13919149912303, -118.82291200000013)  \n259         (34.047220499123924, -118.4307445)  \n260   (33.94520750243695, -118.30463897559736)  \n261  (34.049860493908575, -117.96992450000026)  \n262   (34.08743165988433, -117.83509899236437)  \n263   (33.98055999993961, -118.07001998587738)  \n264   (34.06523499912381, -118.44047994677246)  \n265  (33.979441000624014, -118.01891099569201)  \n266   (34.03707410984437, -118.06118827749373)  \n267  (33.915710503828585, -118.25231247908228)  \n268   (33.79129350128175, -118.25918700000008)  \n269   (34.06910849912372, -118.31990900000004)  \n270   (34.21045949912199, -118.57521950000013)  \n271  (34.159408692550485, -118.61521650000006)  \n\n[272 rows x 2 columns]"
                    },
                    "execution_count": 16,
                    "metadata": {},
                    "output_type": "execute_result"
                }
            ],
            "source": "df_neigh_loc = df_la_neigh.loc[:, ['name', 'latitude', 'longitude']]\ndf_neigh_loc['Location'] = df_neigh_loc.apply(lambda x: str((x['longitude'], x['latitude'])), axis=1)\nprint(type(df_neigh_loc['Location'][0]))\ndf_neigh_loc = df_neigh_loc[['name', 'Location']]\n# df_neigh_loc.sort_values(by='Location')\ndf_neigh_loc"
        },
        {
            "cell_type": "code",
            "execution_count": 12,
            "metadata": {},
            "outputs": [],
            "source": "def locStr_to_tuple(loc_str):\n    return tuple(map(float, list(filter(None, re.split('[; \\(\\), ]', loc_str)))))\n    "
        },
        {
            "cell_type": "code",
            "execution_count": 13,
            "metadata": {},
            "outputs": [
                {
                    "data": {
                        "text/plain": "(34.497355239240854, -118.1698101922935)"
                    },
                    "execution_count": 13,
                    "metadata": {},
                    "output_type": "execute_result"
                }
            ],
            "source": "test_loc = '(34.497355239240854, -118.1698101922935)'\nlocStr_to_tuple(test_loc)"
        },
        {
            "cell_type": "code",
            "execution_count": null,
            "metadata": {},
            "outputs": [],
            "source": ""
        },
        {
            "cell_type": "code",
            "execution_count": 24,
            "metadata": {},
            "outputs": [
                {
                    "name": "stdout",
                    "output_type": "stream",
                    "text": "(16390, 12)\n(2344, 12)\n"
                },
                {
                    "data": {
                        "text/html": "<div>\n<style scoped>\n    .dataframe tbody tr th:only-of-type {\n        vertical-align: middle;\n    }\n\n    .dataframe tbody tr th {\n        vertical-align: top;\n    }\n\n    .dataframe thead th {\n        text-align: right;\n    }\n</style>\n<table border=\"1\" class=\"dataframe\">\n  <thead>\n    <tr style=\"text-align: right;\">\n      <th></th>\n      <th>Policy Area</th>\n      <th>Dataset</th>\n      <th>Variable</th>\n      <th>Year</th>\n      <th>Amount</th>\n      <th>Tract</th>\n      <th>Tract Number</th>\n      <th>Neighborhood</th>\n      <th>GEOID</th>\n      <th>Location</th>\n      <th>Row ID</th>\n      <th>Date</th>\n    </tr>\n  </thead>\n  <tbody>\n    <tr>\n      <th>30</th>\n      <td>Housing &amp; Real Estate</td>\n      <td>Rent Price</td>\n      <td>Median Rent Price</td>\n      <td>2016</td>\n      <td>1861.0</td>\n      <td>Census Tract 5038.01, Los Angeles County, Cali...</td>\n      <td>503801</td>\n      <td>La Mirada</td>\n      <td>1400000US06037503801</td>\n      <td>(33.899102856233, -117.9936485)</td>\n      <td>Median_Rent_Price_2016_1400000US06037503801</td>\n      <td>01/01/2016</td>\n    </tr>\n    <tr>\n      <th>31</th>\n      <td>Housing &amp; Real Estate</td>\n      <td>Rent Price</td>\n      <td>Median Rent Price</td>\n      <td>2016</td>\n      <td>1224.0</td>\n      <td>Census Tract 5739.02, Los Angeles County, Cali...</td>\n      <td>573902</td>\n      <td>Long Beach</td>\n      <td>1400000US06037573902</td>\n      <td>(33.8119735, -118.078652493167)</td>\n      <td>Median_Rent_Price_2016_1400000US06037573902</td>\n      <td>01/01/2016</td>\n    </tr>\n    <tr>\n      <th>32</th>\n      <td>Housing &amp; Real Estate</td>\n      <td>Rent Price</td>\n      <td>Median Rent Price</td>\n      <td>2016</td>\n      <td>1209.0</td>\n      <td>Census Tract 5766.02, Los Angeles County, Cali...</td>\n      <td>576602</td>\n      <td>Long Beach</td>\n      <td>1400000US06037576602</td>\n      <td>(33.765980150191, -118.170779302632)</td>\n      <td>Median_Rent_Price_2016_1400000US06037576602</td>\n      <td>01/01/2016</td>\n    </tr>\n    <tr>\n      <th>33</th>\n      <td>Housing &amp; Real Estate</td>\n      <td>Rent Price</td>\n      <td>Median Rent Price</td>\n      <td>2016</td>\n      <td>NaN</td>\n      <td>Census Tract 9903, Los Angeles County, California</td>\n      <td>990300</td>\n      <td>Long Beach</td>\n      <td>1400000US06037990300</td>\n      <td>(33.723119408975, -118.203400497254)</td>\n      <td>Median_Rent_Price_2016_1400000US06037990300</td>\n      <td>01/01/2016</td>\n    </tr>\n    <tr>\n      <th>2125</th>\n      <td>Housing &amp; Real Estate</td>\n      <td>Rent Price</td>\n      <td>Median Rent Price</td>\n      <td>2016</td>\n      <td>NaN</td>\n      <td>Census Tract 9800.02, Los Angeles County, Cali...</td>\n      <td>980002</td>\n      <td>Carson</td>\n      <td>1400000US06037980002</td>\n      <td>(33.809244, -118.241188)</td>\n      <td>Median_Rent_Price_2016_1400000US06037980002</td>\n      <td>01/01/2016</td>\n    </tr>\n  </tbody>\n</table>\n</div>",
                        "text/plain": "                Policy Area     Dataset           Variable  Year  Amount  \\\n30    Housing & Real Estate  Rent Price  Median Rent Price  2016  1861.0   \n31    Housing & Real Estate  Rent Price  Median Rent Price  2016  1224.0   \n32    Housing & Real Estate  Rent Price  Median Rent Price  2016  1209.0   \n33    Housing & Real Estate  Rent Price  Median Rent Price  2016     NaN   \n2125  Housing & Real Estate  Rent Price  Median Rent Price  2016     NaN   \n\n                                                  Tract  Tract Number  \\\n30    Census Tract 5038.01, Los Angeles County, Cali...        503801   \n31    Census Tract 5739.02, Los Angeles County, Cali...        573902   \n32    Census Tract 5766.02, Los Angeles County, Cali...        576602   \n33    Census Tract 9903, Los Angeles County, California        990300   \n2125  Census Tract 9800.02, Los Angeles County, Cali...        980002   \n\n     Neighborhood                 GEOID                              Location  \\\n30      La Mirada  1400000US06037503801       (33.899102856233, -117.9936485)   \n31     Long Beach  1400000US06037573902       (33.8119735, -118.078652493167)   \n32     Long Beach  1400000US06037576602  (33.765980150191, -118.170779302632)   \n33     Long Beach  1400000US06037990300  (33.723119408975, -118.203400497254)   \n2125       Carson  1400000US06037980002              (33.809244, -118.241188)   \n\n                                           Row ID        Date  \n30    Median_Rent_Price_2016_1400000US06037503801  01/01/2016  \n31    Median_Rent_Price_2016_1400000US06037573902  01/01/2016  \n32    Median_Rent_Price_2016_1400000US06037576602  01/01/2016  \n33    Median_Rent_Price_2016_1400000US06037990300  01/01/2016  \n2125  Median_Rent_Price_2016_1400000US06037980002  01/01/2016  "
                    },
                    "execution_count": 24,
                    "metadata": {},
                    "output_type": "execute_result"
                }
            ],
            "source": "\nbody = client_d8120f4c44654c8492bb144395d3c2f2.get_object(Bucket='applieddatasciencecapstoneibmcour-donotdelete-pr-tokjk722xvsf4y',Key='Rent_Price__LA_.csv')['Body']\n# add missing __iter__ method, so pandas accepts body as file-like object\nif not hasattr(body, \"__iter__\"): body.__iter__ = types.MethodType( __iter__, body )\n\ndf_la_rent = pd.read_csv(body)\nprint(df_la_rent.shape)\ndf_la_rent = df_la_rent[df_la_rent['Year'] == 2016]\nprint(df_la_rent.shape)\ndf_la_rent.head()\n"
        },
        {
            "cell_type": "code",
            "execution_count": 36,
            "metadata": {},
            "outputs": [
                {
                    "name": "stdout",
                    "output_type": "stream",
                    "text": "All neighs in LA contains 272 values and rent neighs in LA contains 262 values.\nAmount that intersect are 262 values\n"
                }
            ],
            "source": "# get a set of the neighbourhood names in both data sets\n\nset_all_rent_neigh = set(np.sort(df_la_rent['Neighborhood'].unique()))\nset_all_neigh = set(df_la_neigh['name'].unique())\n\ninter_neigh = set_all_neigh.intersection(set_all_rent_neigh)\n\nprint('All neighs in LA contains ' + str(len(set_all_neigh)) + ' values and rent neighs in LA contains ' + str(len(set_all_rent_neigh)) + ' values.')\nprint('Amount that intersect are ' + str(len(inter_neigh)) + ' values')\n\nif len(set_all_rent_neigh) == len(inter_neigh):\n    print( )"
        },
        {
            "cell_type": "code",
            "execution_count": null,
            "metadata": {},
            "outputs": [],
            "source": ""
        },
        {
            "cell_type": "code",
            "execution_count": null,
            "metadata": {},
            "outputs": [],
            "source": ""
        },
        {
            "cell_type": "code",
            "execution_count": null,
            "metadata": {},
            "outputs": [],
            "source": ""
        },
        {
            "cell_type": "code",
            "execution_count": null,
            "metadata": {},
            "outputs": [],
            "source": ""
        },
        {
            "cell_type": "code",
            "execution_count": null,
            "metadata": {},
            "outputs": [],
            "source": ""
        },
        {
            "cell_type": "code",
            "execution_count": null,
            "metadata": {},
            "outputs": [],
            "source": ""
        },
        {
            "cell_type": "code",
            "execution_count": null,
            "metadata": {},
            "outputs": [],
            "source": ""
        },
        {
            "cell_type": "code",
            "execution_count": null,
            "metadata": {},
            "outputs": [],
            "source": ""
        },
        {
            "cell_type": "code",
            "execution_count": null,
            "metadata": {},
            "outputs": [],
            "source": ""
        },
        {
            "cell_type": "code",
            "execution_count": null,
            "metadata": {},
            "outputs": [],
            "source": ""
        },
        {
            "cell_type": "code",
            "execution_count": null,
            "metadata": {},
            "outputs": [],
            "source": ""
        },
        {
            "cell_type": "code",
            "execution_count": null,
            "metadata": {},
            "outputs": [],
            "source": ""
        },
        {
            "cell_type": "code",
            "execution_count": null,
            "metadata": {},
            "outputs": [],
            "source": ""
        },
        {
            "cell_type": "code",
            "execution_count": null,
            "metadata": {},
            "outputs": [],
            "source": ""
        },
        {
            "cell_type": "code",
            "execution_count": null,
            "metadata": {},
            "outputs": [],
            "source": ""
        },
        {
            "cell_type": "code",
            "execution_count": 15,
            "metadata": {},
            "outputs": [
                {
                    "ename": "SyntaxError",
                    "evalue": "invalid syntax (<ipython-input-15-61f0657a0f95>, line 1)",
                    "output_type": "error",
                    "traceback": [
                        "\u001b[0;36m  File \u001b[0;32m\"<ipython-input-15-61f0657a0f95>\"\u001b[0;36m, line \u001b[0;32m1\u001b[0m\n\u001b[0;31m    this stops # the rest from running when running all\u001b[0m\n\u001b[0m             ^\u001b[0m\n\u001b[0;31mSyntaxError\u001b[0m\u001b[0;31m:\u001b[0m invalid syntax\n"
                    ]
                }
            ],
            "source": "this stops # the rest from running when running all"
        },
        {
            "cell_type": "code",
            "execution_count": null,
            "metadata": {},
            "outputs": [],
            "source": ""
        },
        {
            "cell_type": "code",
            "execution_count": null,
            "metadata": {},
            "outputs": [],
            "source": "# age distribution data\nbody = client_d8120f4c44654c8492bb144395d3c2f2.get_object(Bucket='applieddatasciencecapstoneibmcour-donotdelete-pr-tokjk722xvsf4y',Key='Age_Distribution__CV_.csv')['Body']\n# add missing __iter__ method, so pandas accepts body as file-like object\nif not hasattr(body, \"__iter__\"): body.__iter__ = types.MethodType( __iter__, body )\n\ndf_la_age = pd.read_csv(body)\ndf_la_age.head()\n"
        },
        {
            "cell_type": "code",
            "execution_count": null,
            "metadata": {
                "scrolled": true
            },
            "outputs": [],
            "source": "print(df_la_age.dtypes)\n\nprint(df_la_age['Variable'].unique())\n\n#print(df_la_age['Policy Area'].unique())\n#print(df_la_age['Dataset'].unique())\n\nprint(df_la_age['Year'].unique())\n#print(df_la_age['Tract'].unique())\n#print(df_la_age['Tract Number'].unique())\n\n#print(df_la_age['Denominator Description'].unique())\n\ndf_la_age.shape"
        },
        {
            "cell_type": "code",
            "execution_count": null,
            "metadata": {},
            "outputs": [],
            "source": "print(df_la_age['Variable'].unique())\ndf_la_age['Variable'].replace(regex=True,inplace=True,to_replace=r'Population ',value=r'')\n#df_la_age['Variable'] = df_la_age['Variable'].replace(regex=True,inplace=True,to_replace=r'Population Ages ',value=r'')\nprint(df_la_age['Variable'].unique())\n\ndf_la_age.rename(index=str, columns={'Variable':'Age Demographic', 'Denominator':'Total Population'}, inplace=True)\nprint(df_la_age.dtypes)\ndf_la_age.head()"
        },
        {
            "cell_type": "code",
            "execution_count": null,
            "metadata": {},
            "outputs": [],
            "source": ""
        },
        {
            "cell_type": "code",
            "execution_count": null,
            "metadata": {},
            "outputs": [],
            "source": "list_age_col = ['Age Demographic', 'Year', 'Count', 'Percent', 'Location', 'Total Population']"
        },
        {
            "cell_type": "code",
            "execution_count": null,
            "metadata": {},
            "outputs": [],
            "source": "# get only the most recent data\ndf_la_age_17 = df_la_age[df_la_age['Year'] == 2017][list_age_col]\ndf_la_age_12 = df_la_age[df_la_age['Year'] == 2012][list_age_col]\nprint(df_la_age_17.shape)\nprint(df_la_age_12.shape)\ndf_la_age_17.head()"
        },
        {
            "cell_type": "code",
            "execution_count": null,
            "metadata": {
                "scrolled": true
            },
            "outputs": [],
            "source": "df_la_age_17.sort_values(by='Location').head(10)"
        },
        {
            "cell_type": "code",
            "execution_count": null,
            "metadata": {},
            "outputs": [],
            "source": "print(type(df_la_age_17['Location'][0]))"
        },
        {
            "cell_type": "code",
            "execution_count": null,
            "metadata": {
                "scrolled": true
            },
            "outputs": [],
            "source": "print(df_la_age_17.groupby(['Location']).count()['Year'].count())  #Amount of different locations where age was determined\ndf_la_age_17.groupby(['Location']).count()['Year'].unique() #check that all locations contain the 7 rows for the 7 age groups, not more, not less"
        },
        {
            "cell_type": "code",
            "execution_count": null,
            "metadata": {},
            "outputs": [],
            "source": "def euclidean_dist(point_1, point_2):\n    \"\"\"\n    Calculates the euclidean distance between two points.\n    \n    Points have to be iterable of at least length 1 (aka lists, tuples, etc) as well as \n    having the same dimensionality\n    \n    Returns -1 with incorrect parameters while printing error information. Else returns euclidean distance\n    \n    \"\"\"\n    \n    try:\n        d_len = len(point_1)\n        d_len2 = len(point_2)\n    except:\n        print(\"Error: Invalid point format\")\n        return -1\n    \n    if (d_len < 1 or  d_len != d_len2):\n        print(\"Error: Unequal point dimensionality\")\n        return -1\n    \n    e_dist = 0\n    \n    for i in range(d_len):\n        e_dist += (point_1[i] - point_2[i])**2\n        \n    return math.sqrt(e_dist)     "
        },
        {
            "cell_type": "code",
            "execution_count": null,
            "metadata": {},
            "outputs": [],
            "source": "from math import sin, cos, sqrt, atan2, radians\n\ndef haversine_dist(point_1, point_2):\n                   \n    try:\n        d_len = len(point_1)\n        d_len2 = len(point_2)\n    except:\n        print(\"Error: Invalid point format\")\n        return -1\n    \n    if (d_len < 1 or  d_len != d_len2):\n        print(\"Error: Unequal point dimensionality\")\n        return -1\n    \n    h_dist = 0\n\n    # approximate radius of earth in km\n    R = 6373.0\n\n    lat1 = radians(point_1[0])\n    lon1 = radians(point_1[1])\n    lat2 = radians(point_2[0])\n    lon2 = radians(point_2[1])\n\n    dlon = lon2 - lon1\n    dlat = lat2 - lat1\n\n    a = sin(dlat / 2)**2 + cos(lat1) * cos(lat2) * sin(dlon / 2)**2\n    c = 2 * atan2(sqrt(a), sqrt(1 - a))\n\n    h_dist = R * c\n                   \n    return h_dist\n"
        },
        {
            "cell_type": "code",
            "execution_count": null,
            "metadata": {},
            "outputs": [],
            "source": "pointA = [1,3]\npointB = [1,2]\neuclidean_dist(pointA, pointB)"
        },
        {
            "cell_type": "code",
            "execution_count": null,
            "metadata": {},
            "outputs": [],
            "source": "def str_e_dist(str_point, point):\n    euclidean_dist(locStr_to_tuple(str_point), point)\n    "
        },
        {
            "cell_type": "code",
            "execution_count": null,
            "metadata": {
                "scrolled": true
            },
            "outputs": [],
            "source": "def get_closest_neigh(point):\n    \n    if type(point) is not tuple and type(point) is not list:\n        return -1\n    \n    if len(point) != 2:\n        return -2\n    \n    lab_e = 'e dist (km)'\n    \n    df_temp_e_dist = df_neigh_loc.loc[:]\n    df_temp_e_dist['e loc'] = df_temp_e_dist['Location'].apply(lambda x: locStr_to_tuple(x) )\n    df_temp_e_dist[lab_e] = df_temp_e_dist['Location'].apply(lambda x: haversine_dist(locStr_to_tuple(x), point) )\n    \n    # locStr_to_tuple()\n    df_temp_e_dist.sort_values(by=lab_e, inplace=True, na_position='first')\n\n    return df_temp_e_dist#.head(1)['name'].iloc[0]\n\n    \n# both columns are in string format\n# df_temp_e_dist.head()"
        },
        {
            "cell_type": "code",
            "execution_count": null,
            "metadata": {},
            "outputs": [],
            "source": "point_test = (33.70182, -116.1821779)\nprint(type(point_test))\nprint(len(point_test))\ndf_test = get_closest_neigh(point_test)\ndf_test"
        },
        {
            "cell_type": "code",
            "execution_count": null,
            "metadata": {},
            "outputs": [],
            "source": "print(type( [33.6936573, -116.2807908]))"
        },
        {
            "cell_type": "code",
            "execution_count": null,
            "metadata": {},
            "outputs": [],
            "source": ""
        },
        {
            "cell_type": "code",
            "execution_count": null,
            "metadata": {},
            "outputs": [],
            "source": "df_all_loc = pd.DataFrame(data=df_la_age_17['Location'].unique() , columns=['Location'])\nprint(df_all_loc.shape)\nprint(type(df_all_loc.iloc[0, 0]))\n# Location is type string\n\ndf_all_loc['Neighbourhood'] = df_all_loc['Location'].apply(lambda x: get_closest_neigh(locStr_to_tuple(x)) )\ndf_all_loc\n\n\n# FIGURE OUT DATA??????????????? "
        },
        {
            "cell_type": "code",
            "execution_count": null,
            "metadata": {},
            "outputs": [],
            "source": ""
        },
        {
            "cell_type": "code",
            "execution_count": null,
            "metadata": {},
            "outputs": [],
            "source": ""
        },
        {
            "cell_type": "code",
            "execution_count": null,
            "metadata": {},
            "outputs": [],
            "source": ""
        },
        {
            "cell_type": "code",
            "execution_count": null,
            "metadata": {},
            "outputs": [],
            "source": ""
        },
        {
            "cell_type": "code",
            "execution_count": null,
            "metadata": {},
            "outputs": [],
            "source": ""
        }
    ],
    "metadata": {
        "kernelspec": {
            "display_name": "Python 3.6",
            "language": "python",
            "name": "python3"
        },
        "language_info": {
            "codemirror_mode": {
                "name": "ipython",
                "version": 3
            },
            "file_extension": ".py",
            "mimetype": "text/x-python",
            "name": "python",
            "nbconvert_exporter": "python",
            "pygments_lexer": "ipython3",
            "version": "3.6.8"
        }
    },
    "nbformat": 4,
    "nbformat_minor": 1
}